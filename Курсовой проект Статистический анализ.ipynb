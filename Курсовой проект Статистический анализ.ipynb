{
 "cells": [
  {
   "cell_type": "code",
   "execution_count": 1,
   "id": "12eec265",
   "metadata": {},
   "outputs": [],
   "source": [
    "import pandas as pd\n",
    "import matplotlib.pyplot as plt\n",
    "import seaborn as sns\n",
    "import scipy.stats as stats\n",
    "from scipy.stats import spearmanr\n",
    "import numpy as np\n",
    "\n"
   ]
  },
  {
   "cell_type": "markdown",
   "id": "b4d2a0fb",
   "metadata": {},
   "source": [
    "ЗАДАНИЕ 1"
   ]
  },
  {
   "cell_type": "markdown",
   "id": "adb6da28",
   "metadata": {},
   "source": [
    "Загружаем данные"
   ]
  },
  {
   "cell_type": "code",
   "execution_count": 2,
   "id": "ab8ffe92",
   "metadata": {},
   "outputs": [],
   "source": [
    "df = pd.read_csv('Dataset_AB_TEST.csv', sep = ';')"
   ]
  },
  {
   "cell_type": "markdown",
   "id": "e48b78d1",
   "metadata": {},
   "source": [
    "Познакомимся с таблицей (выборочно первые 5 строк)"
   ]
  },
  {
   "cell_type": "code",
   "execution_count": 3,
   "id": "49ecee67",
   "metadata": {},
   "outputs": [
    {
     "data": {
      "text/html": [
       "<div>\n",
       "<style scoped>\n",
       "    .dataframe tbody tr th:only-of-type {\n",
       "        vertical-align: middle;\n",
       "    }\n",
       "\n",
       "    .dataframe tbody tr th {\n",
       "        vertical-align: top;\n",
       "    }\n",
       "\n",
       "    .dataframe thead th {\n",
       "        text-align: right;\n",
       "    }\n",
       "</style>\n",
       "<table border=\"1\" class=\"dataframe\">\n",
       "  <thead>\n",
       "    <tr style=\"text-align: right;\">\n",
       "      <th></th>\n",
       "      <th>id_client</th>\n",
       "      <th>id_group</th>\n",
       "      <th>sum_pay</th>\n",
       "      <th>id_point</th>\n",
       "      <th>months_reg</th>\n",
       "    </tr>\n",
       "  </thead>\n",
       "  <tbody>\n",
       "    <tr>\n",
       "      <th>0</th>\n",
       "      <td>1420218</td>\n",
       "      <td>test</td>\n",
       "      <td>3288.0</td>\n",
       "      <td>1199.0</td>\n",
       "      <td>8</td>\n",
       "    </tr>\n",
       "    <tr>\n",
       "      <th>1</th>\n",
       "      <td>1390221</td>\n",
       "      <td>control</td>\n",
       "      <td>1267.0</td>\n",
       "      <td>1182.0</td>\n",
       "      <td>11</td>\n",
       "    </tr>\n",
       "    <tr>\n",
       "      <th>2</th>\n",
       "      <td>1363404</td>\n",
       "      <td>control</td>\n",
       "      <td>4259.0</td>\n",
       "      <td>1178.0</td>\n",
       "      <td>2</td>\n",
       "    </tr>\n",
       "    <tr>\n",
       "      <th>3</th>\n",
       "      <td>1370042</td>\n",
       "      <td>test</td>\n",
       "      <td>7211.0</td>\n",
       "      <td>1179.0</td>\n",
       "      <td>3</td>\n",
       "    </tr>\n",
       "    <tr>\n",
       "      <th>4</th>\n",
       "      <td>1360376</td>\n",
       "      <td>control</td>\n",
       "      <td>760.0</td>\n",
       "      <td>1178.0</td>\n",
       "      <td>14</td>\n",
       "    </tr>\n",
       "  </tbody>\n",
       "</table>\n",
       "</div>"
      ],
      "text/plain": [
       "   id_client id_group  sum_pay  id_point  months_reg\n",
       "0    1420218     test   3288.0    1199.0           8\n",
       "1    1390221  control   1267.0    1182.0          11\n",
       "2    1363404  control   4259.0    1178.0           2\n",
       "3    1370042     test   7211.0    1179.0           3\n",
       "4    1360376  control    760.0    1178.0          14"
      ]
     },
     "execution_count": 3,
     "metadata": {},
     "output_type": "execute_result"
    }
   ],
   "source": [
    "df.head()"
   ]
  },
  {
   "cell_type": "markdown",
   "id": "a99ddb0e",
   "metadata": {},
   "source": [
    "Создадим копию для последующей работы"
   ]
  },
  {
   "cell_type": "code",
   "execution_count": 4,
   "id": "552898d7",
   "metadata": {},
   "outputs": [
    {
     "data": {
      "text/html": [
       "<div>\n",
       "<style scoped>\n",
       "    .dataframe tbody tr th:only-of-type {\n",
       "        vertical-align: middle;\n",
       "    }\n",
       "\n",
       "    .dataframe tbody tr th {\n",
       "        vertical-align: top;\n",
       "    }\n",
       "\n",
       "    .dataframe thead th {\n",
       "        text-align: right;\n",
       "    }\n",
       "</style>\n",
       "<table border=\"1\" class=\"dataframe\">\n",
       "  <thead>\n",
       "    <tr style=\"text-align: right;\">\n",
       "      <th></th>\n",
       "      <th>id_client</th>\n",
       "      <th>id_group</th>\n",
       "      <th>sum_pay</th>\n",
       "      <th>id_point</th>\n",
       "      <th>months_reg</th>\n",
       "    </tr>\n",
       "  </thead>\n",
       "  <tbody>\n",
       "    <tr>\n",
       "      <th>0</th>\n",
       "      <td>1420218</td>\n",
       "      <td>test</td>\n",
       "      <td>3288.0</td>\n",
       "      <td>1199.0</td>\n",
       "      <td>8</td>\n",
       "    </tr>\n",
       "    <tr>\n",
       "      <th>1</th>\n",
       "      <td>1390221</td>\n",
       "      <td>control</td>\n",
       "      <td>1267.0</td>\n",
       "      <td>1182.0</td>\n",
       "      <td>11</td>\n",
       "    </tr>\n",
       "    <tr>\n",
       "      <th>2</th>\n",
       "      <td>1363404</td>\n",
       "      <td>control</td>\n",
       "      <td>4259.0</td>\n",
       "      <td>1178.0</td>\n",
       "      <td>2</td>\n",
       "    </tr>\n",
       "    <tr>\n",
       "      <th>3</th>\n",
       "      <td>1370042</td>\n",
       "      <td>test</td>\n",
       "      <td>7211.0</td>\n",
       "      <td>1179.0</td>\n",
       "      <td>3</td>\n",
       "    </tr>\n",
       "    <tr>\n",
       "      <th>4</th>\n",
       "      <td>1360376</td>\n",
       "      <td>control</td>\n",
       "      <td>760.0</td>\n",
       "      <td>1178.0</td>\n",
       "      <td>14</td>\n",
       "    </tr>\n",
       "    <tr>\n",
       "      <th>...</th>\n",
       "      <td>...</td>\n",
       "      <td>...</td>\n",
       "      <td>...</td>\n",
       "      <td>...</td>\n",
       "      <td>...</td>\n",
       "    </tr>\n",
       "    <tr>\n",
       "      <th>10971</th>\n",
       "      <td>1359021</td>\n",
       "      <td>control</td>\n",
       "      <td>799.0</td>\n",
       "      <td>1178.0</td>\n",
       "      <td>3</td>\n",
       "    </tr>\n",
       "    <tr>\n",
       "      <th>10972</th>\n",
       "      <td>1363347</td>\n",
       "      <td>control</td>\n",
       "      <td>4825.0</td>\n",
       "      <td>1178.0</td>\n",
       "      <td>6</td>\n",
       "    </tr>\n",
       "    <tr>\n",
       "      <th>10973</th>\n",
       "      <td>1373031</td>\n",
       "      <td>test</td>\n",
       "      <td>673.0</td>\n",
       "      <td>1179.0</td>\n",
       "      <td>1</td>\n",
       "    </tr>\n",
       "    <tr>\n",
       "      <th>10974</th>\n",
       "      <td>1370292</td>\n",
       "      <td>test</td>\n",
       "      <td>1120.0</td>\n",
       "      <td>1179.0</td>\n",
       "      <td>1</td>\n",
       "    </tr>\n",
       "    <tr>\n",
       "      <th>10975</th>\n",
       "      <td>1370038</td>\n",
       "      <td>test</td>\n",
       "      <td>5348.0</td>\n",
       "      <td>1179.0</td>\n",
       "      <td>8</td>\n",
       "    </tr>\n",
       "  </tbody>\n",
       "</table>\n",
       "<p>10976 rows × 5 columns</p>\n",
       "</div>"
      ],
      "text/plain": [
       "       id_client id_group  sum_pay  id_point  months_reg\n",
       "0        1420218     test   3288.0    1199.0           8\n",
       "1        1390221  control   1267.0    1182.0          11\n",
       "2        1363404  control   4259.0    1178.0           2\n",
       "3        1370042     test   7211.0    1179.0           3\n",
       "4        1360376  control    760.0    1178.0          14\n",
       "...          ...      ...      ...       ...         ...\n",
       "10971    1359021  control    799.0    1178.0           3\n",
       "10972    1363347  control   4825.0    1178.0           6\n",
       "10973    1373031     test    673.0    1179.0           1\n",
       "10974    1370292     test   1120.0    1179.0           1\n",
       "10975    1370038     test   5348.0    1179.0           8\n",
       "\n",
       "[10976 rows x 5 columns]"
      ]
     },
     "execution_count": 4,
     "metadata": {},
     "output_type": "execute_result"
    }
   ],
   "source": [
    "dfs = df.copy()\n",
    "dfs"
   ]
  },
  {
   "cell_type": "markdown",
   "id": "0083dfce",
   "metadata": {},
   "source": [
    "Проверим на наличие дубликатов"
   ]
  },
  {
   "cell_type": "code",
   "execution_count": 5,
   "id": "1c135735",
   "metadata": {},
   "outputs": [
    {
     "data": {
      "text/plain": [
       "0"
      ]
     },
     "execution_count": 5,
     "metadata": {},
     "output_type": "execute_result"
    }
   ],
   "source": [
    "dfs.duplicated().sum()"
   ]
  },
  {
   "cell_type": "markdown",
   "id": "e7c04f19",
   "metadata": {},
   "source": [
    "Посмотрим сводную информацию"
   ]
  },
  {
   "cell_type": "code",
   "execution_count": 6,
   "id": "2e680b39",
   "metadata": {},
   "outputs": [
    {
     "name": "stdout",
     "output_type": "stream",
     "text": [
      "<class 'pandas.core.frame.DataFrame'>\n",
      "RangeIndex: 10976 entries, 0 to 10975\n",
      "Data columns (total 5 columns):\n",
      " #   Column      Non-Null Count  Dtype  \n",
      "---  ------      --------------  -----  \n",
      " 0   id_client   10976 non-null  int64  \n",
      " 1   id_group    10902 non-null  object \n",
      " 2   sum_pay     10849 non-null  float64\n",
      " 3   id_point    10895 non-null  float64\n",
      " 4   months_reg  10976 non-null  int64  \n",
      "dtypes: float64(2), int64(2), object(1)\n",
      "memory usage: 428.9+ KB\n"
     ]
    }
   ],
   "source": [
    "dfs.info()"
   ]
  },
  {
   "cell_type": "markdown",
   "id": "9aae778f",
   "metadata": {},
   "source": [
    "Проверим количество нулевых значений в столбцах"
   ]
  },
  {
   "cell_type": "code",
   "execution_count": 7,
   "id": "2c181129",
   "metadata": {},
   "outputs": [
    {
     "data": {
      "text/plain": [
       "id_client       0\n",
       "id_group       74\n",
       "sum_pay       127\n",
       "id_point       81\n",
       "months_reg      0\n",
       "dtype: int64"
      ]
     },
     "execution_count": 7,
     "metadata": {},
     "output_type": "execute_result"
    }
   ],
   "source": [
    "dfs.isnull().sum()"
   ]
  },
  {
   "cell_type": "markdown",
   "id": "051204eb",
   "metadata": {},
   "source": [
    "Видим нулевые значенияв следующих столбцах: id_group, sum_pay, id_point. замена этих позиций на средние значения не корректна. И количество нулевых значений не критично, поэтому принимаем решение удалить нулевые значения."
   ]
  },
  {
   "cell_type": "code",
   "execution_count": 8,
   "id": "8885b886",
   "metadata": {},
   "outputs": [],
   "source": [
    "dfs = dfs.dropna()"
   ]
  },
  {
   "cell_type": "code",
   "execution_count": 9,
   "id": "d3ce5fb0",
   "metadata": {},
   "outputs": [
    {
     "name": "stdout",
     "output_type": "stream",
     "text": [
      "<class 'pandas.core.frame.DataFrame'>\n",
      "Int64Index: 10840 entries, 0 to 10975\n",
      "Data columns (total 5 columns):\n",
      " #   Column      Non-Null Count  Dtype  \n",
      "---  ------      --------------  -----  \n",
      " 0   id_client   10840 non-null  int64  \n",
      " 1   id_group    10840 non-null  object \n",
      " 2   sum_pay     10840 non-null  float64\n",
      " 3   id_point    10840 non-null  float64\n",
      " 4   months_reg  10840 non-null  int64  \n",
      "dtypes: float64(2), int64(2), object(1)\n",
      "memory usage: 508.1+ KB\n"
     ]
    }
   ],
   "source": [
    "dfs.info()"
   ]
  },
  {
   "cell_type": "markdown",
   "id": "b421fd95",
   "metadata": {},
   "source": [
    "Выведем группировку по торговым точкам и проверим количество наблюдений. Торговая точка № 1199 не имеет наблюдений в control, поэтому ее можно не учитывать в АБ тестировании. А № 1188 имеет маленькое количество наблюдений 6 и 4 по группам, этого количества наблюдений недостаточно для принятия каких либо решений, также можно исключить."
   ]
  },
  {
   "cell_type": "code",
   "execution_count": 10,
   "id": "e1c00696",
   "metadata": {},
   "outputs": [
    {
     "data": {
      "text/html": [
       "<div>\n",
       "<style scoped>\n",
       "    .dataframe tbody tr th:only-of-type {\n",
       "        vertical-align: middle;\n",
       "    }\n",
       "\n",
       "    .dataframe tbody tr th {\n",
       "        vertical-align: top;\n",
       "    }\n",
       "\n",
       "    .dataframe thead th {\n",
       "        text-align: right;\n",
       "    }\n",
       "</style>\n",
       "<table border=\"1\" class=\"dataframe\">\n",
       "  <thead>\n",
       "    <tr style=\"text-align: right;\">\n",
       "      <th></th>\n",
       "      <th></th>\n",
       "      <th>id_client</th>\n",
       "      <th>sum_pay</th>\n",
       "      <th>months_reg</th>\n",
       "    </tr>\n",
       "    <tr>\n",
       "      <th>id_point</th>\n",
       "      <th>id_group</th>\n",
       "      <th></th>\n",
       "      <th></th>\n",
       "      <th></th>\n",
       "    </tr>\n",
       "  </thead>\n",
       "  <tbody>\n",
       "    <tr>\n",
       "      <th rowspan=\"2\" valign=\"top\">1178.0</th>\n",
       "      <th>control</th>\n",
       "      <td>2403</td>\n",
       "      <td>2403</td>\n",
       "      <td>2403</td>\n",
       "    </tr>\n",
       "    <tr>\n",
       "      <th>test</th>\n",
       "      <td>2407</td>\n",
       "      <td>2407</td>\n",
       "      <td>2407</td>\n",
       "    </tr>\n",
       "    <tr>\n",
       "      <th rowspan=\"2\" valign=\"top\">1179.0</th>\n",
       "      <th>control</th>\n",
       "      <td>1716</td>\n",
       "      <td>1716</td>\n",
       "      <td>1716</td>\n",
       "    </tr>\n",
       "    <tr>\n",
       "      <th>test</th>\n",
       "      <td>1755</td>\n",
       "      <td>1755</td>\n",
       "      <td>1755</td>\n",
       "    </tr>\n",
       "    <tr>\n",
       "      <th rowspan=\"2\" valign=\"top\">1182.0</th>\n",
       "      <th>control</th>\n",
       "      <td>1023</td>\n",
       "      <td>1023</td>\n",
       "      <td>1023</td>\n",
       "    </tr>\n",
       "    <tr>\n",
       "      <th>test</th>\n",
       "      <td>987</td>\n",
       "      <td>987</td>\n",
       "      <td>987</td>\n",
       "    </tr>\n",
       "    <tr>\n",
       "      <th rowspan=\"2\" valign=\"top\">1186.0</th>\n",
       "      <th>control</th>\n",
       "      <td>23</td>\n",
       "      <td>23</td>\n",
       "      <td>23</td>\n",
       "    </tr>\n",
       "    <tr>\n",
       "      <th>test</th>\n",
       "      <td>40</td>\n",
       "      <td>40</td>\n",
       "      <td>40</td>\n",
       "    </tr>\n",
       "    <tr>\n",
       "      <th rowspan=\"2\" valign=\"top\">1188.0</th>\n",
       "      <th>control</th>\n",
       "      <td>6</td>\n",
       "      <td>6</td>\n",
       "      <td>6</td>\n",
       "    </tr>\n",
       "    <tr>\n",
       "      <th>test</th>\n",
       "      <td>4</td>\n",
       "      <td>4</td>\n",
       "      <td>4</td>\n",
       "    </tr>\n",
       "    <tr>\n",
       "      <th>1199.0</th>\n",
       "      <th>test</th>\n",
       "      <td>476</td>\n",
       "      <td>476</td>\n",
       "      <td>476</td>\n",
       "    </tr>\n",
       "  </tbody>\n",
       "</table>\n",
       "</div>"
      ],
      "text/plain": [
       "                   id_client  sum_pay  months_reg\n",
       "id_point id_group                                \n",
       "1178.0   control        2403     2403        2403\n",
       "         test           2407     2407        2407\n",
       "1179.0   control        1716     1716        1716\n",
       "         test           1755     1755        1755\n",
       "1182.0   control        1023     1023        1023\n",
       "         test            987      987         987\n",
       "1186.0   control          23       23          23\n",
       "         test             40       40          40\n",
       "1188.0   control           6        6           6\n",
       "         test              4        4           4\n",
       "1199.0   test            476      476         476"
      ]
     },
     "execution_count": 10,
     "metadata": {},
     "output_type": "execute_result"
    }
   ],
   "source": [
    "dfs.groupby(['id_point', 'id_group']).count()"
   ]
  },
  {
   "cell_type": "markdown",
   "id": "9f9b2efa",
   "metadata": {},
   "source": [
    "Исключим из теста торговую точку № 1199"
   ]
  },
  {
   "cell_type": "code",
   "execution_count": 11,
   "id": "140be629",
   "metadata": {},
   "outputs": [],
   "source": [
    "dfs = dfs.loc[dfs['id_point']!= 1199 ]"
   ]
  },
  {
   "cell_type": "code",
   "execution_count": 12,
   "id": "8d90e48a",
   "metadata": {},
   "outputs": [
    {
     "data": {
      "text/html": [
       "<div>\n",
       "<style scoped>\n",
       "    .dataframe tbody tr th:only-of-type {\n",
       "        vertical-align: middle;\n",
       "    }\n",
       "\n",
       "    .dataframe tbody tr th {\n",
       "        vertical-align: top;\n",
       "    }\n",
       "\n",
       "    .dataframe thead th {\n",
       "        text-align: right;\n",
       "    }\n",
       "</style>\n",
       "<table border=\"1\" class=\"dataframe\">\n",
       "  <thead>\n",
       "    <tr style=\"text-align: right;\">\n",
       "      <th></th>\n",
       "      <th></th>\n",
       "      <th>id_client</th>\n",
       "      <th>sum_pay</th>\n",
       "      <th>months_reg</th>\n",
       "    </tr>\n",
       "    <tr>\n",
       "      <th>id_point</th>\n",
       "      <th>id_group</th>\n",
       "      <th></th>\n",
       "      <th></th>\n",
       "      <th></th>\n",
       "    </tr>\n",
       "  </thead>\n",
       "  <tbody>\n",
       "    <tr>\n",
       "      <th rowspan=\"2\" valign=\"top\">1178.0</th>\n",
       "      <th>control</th>\n",
       "      <td>2403</td>\n",
       "      <td>2403</td>\n",
       "      <td>2403</td>\n",
       "    </tr>\n",
       "    <tr>\n",
       "      <th>test</th>\n",
       "      <td>2407</td>\n",
       "      <td>2407</td>\n",
       "      <td>2407</td>\n",
       "    </tr>\n",
       "    <tr>\n",
       "      <th rowspan=\"2\" valign=\"top\">1179.0</th>\n",
       "      <th>control</th>\n",
       "      <td>1716</td>\n",
       "      <td>1716</td>\n",
       "      <td>1716</td>\n",
       "    </tr>\n",
       "    <tr>\n",
       "      <th>test</th>\n",
       "      <td>1755</td>\n",
       "      <td>1755</td>\n",
       "      <td>1755</td>\n",
       "    </tr>\n",
       "    <tr>\n",
       "      <th rowspan=\"2\" valign=\"top\">1182.0</th>\n",
       "      <th>control</th>\n",
       "      <td>1023</td>\n",
       "      <td>1023</td>\n",
       "      <td>1023</td>\n",
       "    </tr>\n",
       "    <tr>\n",
       "      <th>test</th>\n",
       "      <td>987</td>\n",
       "      <td>987</td>\n",
       "      <td>987</td>\n",
       "    </tr>\n",
       "    <tr>\n",
       "      <th rowspan=\"2\" valign=\"top\">1186.0</th>\n",
       "      <th>control</th>\n",
       "      <td>23</td>\n",
       "      <td>23</td>\n",
       "      <td>23</td>\n",
       "    </tr>\n",
       "    <tr>\n",
       "      <th>test</th>\n",
       "      <td>40</td>\n",
       "      <td>40</td>\n",
       "      <td>40</td>\n",
       "    </tr>\n",
       "    <tr>\n",
       "      <th rowspan=\"2\" valign=\"top\">1188.0</th>\n",
       "      <th>control</th>\n",
       "      <td>6</td>\n",
       "      <td>6</td>\n",
       "      <td>6</td>\n",
       "    </tr>\n",
       "    <tr>\n",
       "      <th>test</th>\n",
       "      <td>4</td>\n",
       "      <td>4</td>\n",
       "      <td>4</td>\n",
       "    </tr>\n",
       "  </tbody>\n",
       "</table>\n",
       "</div>"
      ],
      "text/plain": [
       "                   id_client  sum_pay  months_reg\n",
       "id_point id_group                                \n",
       "1178.0   control        2403     2403        2403\n",
       "         test           2407     2407        2407\n",
       "1179.0   control        1716     1716        1716\n",
       "         test           1755     1755        1755\n",
       "1182.0   control        1023     1023        1023\n",
       "         test            987      987         987\n",
       "1186.0   control          23       23          23\n",
       "         test             40       40          40\n",
       "1188.0   control           6        6           6\n",
       "         test              4        4           4"
      ]
     },
     "execution_count": 12,
     "metadata": {},
     "output_type": "execute_result"
    }
   ],
   "source": [
    "dfs.groupby(['id_point', 'id_group']).count()"
   ]
  },
  {
   "cell_type": "code",
   "execution_count": 13,
   "id": "3e12c53e",
   "metadata": {},
   "outputs": [
    {
     "data": {
      "text/plain": [
       "count    10364.000000\n",
       "mean      3553.137688\n",
       "std       2967.770563\n",
       "min         59.000000\n",
       "25%       1202.000000\n",
       "50%       3146.500000\n",
       "75%       5344.000000\n",
       "max      24797.000000\n",
       "Name: sum_pay, dtype: float64"
      ]
     },
     "execution_count": 13,
     "metadata": {},
     "output_type": "execute_result"
    }
   ],
   "source": [
    "dfs['sum_pay'].describe()"
   ]
  },
  {
   "cell_type": "code",
   "execution_count": 14,
   "id": "9cd2bbdd",
   "metadata": {},
   "outputs": [],
   "source": [
    "def statistical_analysiss (stat, q = [0.1,0.25,0.3,0.4,0.5,0.6,0.75,0.9,0.91,0.92,0.93,0.94,0.95,0.96,0.97,0.98,0.99, 0.995]):\n",
    "    if type(stat) !=list and type(stat) !=tuple:\n",
    "        return 'Нужен список или кортеж!'\n",
    "    if len(stat) <= 4:\n",
    "        return 'Требуется более длинный ряд'\n",
    "    \n",
    "    df = pd.Series(stat)\n",
    "    print(\"Среднее = \",df.mean())\n",
    "    print(\"Дисперсия = \",df.var())\n",
    "    print(\"Стандартное отклонение = \",df.std())\n",
    "    print('Размах = ', np.quantile(df,0.75) - np.quantile(df,0.25))\n",
    "    qs = np.quantile(df,q)\n",
    "    for i in range(len(q)):\n",
    "        if q[i] == 0.5:\n",
    "            print('Mediane = ', qs[i])\n",
    "        elif q[i] == 0.25:\n",
    "            print('First quartile = ', qs[i])\n",
    "        elif q[i] == 0.75:\n",
    "            print('Third quartile = ', qs[i])\n",
    "        elif q[i]*100 % 10 == 0:\n",
    "            print('Decile number', q[i]*10, ' = ', qs[i])\n",
    "        else:\n",
    "            print('Quantile', q[i], ' = ', qs[i])\n",
    "            \n",
    "    sns.histplot(df)\n",
    "    return df.mean(), df.var(), df.std()"
   ]
  },
  {
   "cell_type": "code",
   "execution_count": 15,
   "id": "f2e703ca",
   "metadata": {},
   "outputs": [
    {
     "name": "stdout",
     "output_type": "stream",
     "text": [
      "Среднее =  3553.137688151293\n",
      "Дисперсия =  8807662.114109686\n",
      "Стандартное отклонение =  2967.7705629158204\n",
      "Размах =  4142.0\n",
      "Decile number 1.0  =  393.0\n",
      "First quartile =  1202.0\n",
      "Decile number 3.0  =  1533.9\n",
      "Decile number 4.0  =  2274.0\n",
      "Mediane =  3146.5\n",
      "Decile number 6.0  =  3902.8\n",
      "Third quartile =  5344.0\n",
      "Decile number 9.0  =  7149.700000000001\n",
      "Quantile 0.91  =  7243.0\n",
      "Quantile 0.92  =  7381.920000000002\n",
      "Quantile 0.93  =  7499.0\n",
      "Quantile 0.94  =  7673.0\n",
      "Quantile 0.95  =  7851.0\n",
      "Quantile 0.96  =  8069.439999999999\n",
      "Quantile 0.97  =  8503.100000000006\n",
      "Quantile 0.98  =  9103.22\n",
      "Quantile 0.99  =  9851.110000000002\n",
      "Quantile 0.995  =  21180.40499999999\n"
     ]
    },
    {
     "data": {
      "text/plain": [
       "(3553.137688151293, 8807662.114109686, 2967.7705629158204)"
      ]
     },
     "execution_count": 15,
     "metadata": {},
     "output_type": "execute_result"
    },
    {
     "data": {
      "image/png": "[encoded data removed]",
      "text/plain": [
       "<Figure size 432x288 with 1 Axes>"
      ]
     },
     "metadata": {
      "needs_background": "light"
     },
     "output_type": "display_data"
    }
   ],
   "source": [
    "statistical_analysiss(list(dfs['sum_pay']))"
   ]
  },
  {
   "cell_type": "code",
   "execution_count": 16,
   "id": "83efa7c5",
   "metadata": {},
   "outputs": [],
   "source": [
    "dfs = dfs[dfs['sum_pay']< 20000]"
   ]
  },
  {
   "cell_type": "code",
   "execution_count": 17,
   "id": "cc4fff62",
   "metadata": {},
   "outputs": [],
   "source": [
    "test = dfs[dfs['id_group'] == 'test']['sum_pay']\n",
    "control = dfs[dfs['id_group'] == 'control']['sum_pay']\n"
   ]
  },
  {
   "cell_type": "code",
   "execution_count": 18,
   "id": "35d95c7c",
   "metadata": {},
   "outputs": [
    {
     "name": "stdout",
     "output_type": "stream",
     "text": [
      "Среднее =  3339.535408560311\n",
      "Дисперсия =  5253689.135348443\n",
      "Стандартное отклонение =  2292.0927414370567\n",
      "Размах =  3575.75\n",
      "Decile number 1.0  =  420.0\n",
      "First quartile =  1281.75\n",
      "Decile number 3.0  =  1618.0\n",
      "Decile number 4.0  =  2431.3999999999996\n",
      "Mediane =  3247.5\n",
      "Decile number 6.0  =  3848.4\n",
      "Third quartile =  4857.5\n",
      "Decile number 9.0  =  6721.0\n",
      "Quantile 0.91  =  6900.49\n",
      "Quantile 0.92  =  7043.280000000001\n",
      "Quantile 0.93  =  7180.0\n",
      "Quantile 0.94  =  7303.299999999999\n",
      "Quantile 0.95  =  7459.1\n",
      "Quantile 0.96  =  7672.44\n",
      "Quantile 0.97  =  7932.83\n",
      "Quantile 0.98  =  8207.760000000002\n",
      "Quantile 0.99  =  8644.319999999996\n",
      "Quantile 0.995  =  8994.455000000009\n"
     ]
    },
    {
     "data": {
      "text/plain": [
       "(3339.535408560311, 5253689.135348443, 2292.0927414370567)"
      ]
     },
     "execution_count": 18,
     "metadata": {},
     "output_type": "execute_result"
    },
    {
     "data": {
      "image/png": "[encoded data removed]",
      "text/plain": [
       "<Figure size 432x288 with 1 Axes>"
      ]
     },
     "metadata": {
      "needs_background": "light"
     },
     "output_type": "display_data"
    }
   ],
   "source": [
    "statistical_analysiss(list(control))"
   ]
  },
  {
   "cell_type": "code",
   "execution_count": 19,
   "id": "79eb4e28",
   "metadata": {},
   "outputs": [
    {
     "name": "stdout",
     "output_type": "stream",
     "text": [
      "Среднее =  3478.955879494655\n",
      "Дисперсия =  7019364.588449596\n",
      "Стандартное отклонение =  2649.408346867201\n",
      "Размах =  4721.0\n",
      "Decile number 1.0  =  369.0\n",
      "First quartile =  1089.0\n",
      "Decile number 3.0  =  1412.0\n",
      "Decile number 4.0  =  2101.0\n",
      "Mediane =  2916.0\n",
      "Decile number 6.0  =  3897.6000000000004\n",
      "Third quartile =  5810.0\n",
      "Decile number 9.0  =  7273.200000000001\n",
      "Quantile 0.91  =  7382.48\n",
      "Quantile 0.92  =  7488.4800000000005\n",
      "Quantile 0.93  =  7628.84\n",
      "Quantile 0.94  =  7755.719999999999\n",
      "Quantile 0.95  =  7883.8\n",
      "Quantile 0.96  =  8104.439999999999\n",
      "Quantile 0.97  =  8593.480000000003\n",
      "Quantile 0.98  =  9135.0\n",
      "Quantile 0.99  =  9599.560000000001\n",
      "Quantile 0.995  =  9841.359999999997\n"
     ]
    },
    {
     "data": {
      "text/plain": [
       "(3478.955879494655, 7019364.588449596, 2649.408346867201)"
      ]
     },
     "execution_count": 19,
     "metadata": {},
     "output_type": "execute_result"
    },
    {
     "data": {
      "image/png": "[encoded data removed]",
      "text/plain": [
       "<Figure size 432x288 with 1 Axes>"
      ]
     },
     "metadata": {
      "needs_background": "light"
     },
     "output_type": "display_data"
    }
   ],
   "source": [
    "statistical_analysiss(list(test))"
   ]
  },
  {
   "cell_type": "code",
   "execution_count": 20,
   "id": "bbe02386",
   "metadata": {},
   "outputs": [
    {
     "data": {
      "text/plain": [
       "(array([[1269.,  765.,  630.,  493.,  426.,  417.,  550.,  390.,  100.,\n",
       "          105.],\n",
       "        [1114.,  735.,  563.,  855.,  755.,  375.,  357.,  270.,   97.,\n",
       "           19.]]),\n",
       " array([   59. ,  1067.2,  2075.4,  3083.6,  4091.8,  5100. ,  6108.2,\n",
       "         7116.4,  8124.6,  9132.8, 10141. ]),\n",
       " <a list of 2 BarContainer objects>)"
      ]
     },
     "execution_count": 20,
     "metadata": {},
     "output_type": "execute_result"
    },
    {
     "data": {
      "image/png": "[encoded data removed]",
      "text/plain": [
       "<Figure size 432x288 with 1 Axes>"
      ]
     },
     "metadata": {
      "needs_background": "light"
     },
     "output_type": "display_data"
    }
   ],
   "source": [
    "plt.hist([test, control], color=['r','b'], alpha=0.5)"
   ]
  },
  {
   "cell_type": "code",
   "execution_count": 21,
   "id": "d73bf263",
   "metadata": {},
   "outputs": [],
   "source": [
    "def show_hist (t,c):\n",
    "    plt.hist([t, c], color=['r','b'], alpha=0.5)\n",
    "    plt.title('Гистограмма распределения')\n",
    "    print (show_hist)"
   ]
  },
  {
   "cell_type": "code",
   "execution_count": 22,
   "id": "1c9a283c",
   "metadata": {},
   "outputs": [
    {
     "name": "stdout",
     "output_type": "stream",
     "text": [
      "<function show_hist at 0x000002048A2DA160>\n"
     ]
    },
    {
     "data": {
      "image/png": "[encoded data removed]",
      "text/plain": [
       "<Figure size 432x288 with 1 Axes>"
      ]
     },
     "metadata": {
      "needs_background": "light"
     },
     "output_type": "display_data"
    }
   ],
   "source": [
    "t = test\n",
    "c = control\n",
    "show_hist(t,c)"
   ]
  },
  {
   "cell_type": "code",
   "execution_count": 23,
   "id": "b7bfac6b",
   "metadata": {},
   "outputs": [],
   "source": [
    "def mann_whitney_func (b1, b2, alpha = 0.05):\n",
    "    stat, p = stats.mannwhitneyu(x= b1, y= b2, alternative = 'greater')  \n",
    "    \n",
    "    if p < alpha:\n",
    "        print('По Манну-Уитни распределения не равны')\n",
    "    else:\n",
    "        print('По Манну-Уитни распределения равны')\n",
    "    return stat, p\n",
    "    \n",
    "   "
   ]
  },
  {
   "cell_type": "code",
   "execution_count": 24,
   "id": "f19ae54e",
   "metadata": {},
   "outputs": [
    {
     "name": "stdout",
     "output_type": "stream",
     "text": [
      "По Манну-Уитни распределения равны\n"
     ]
    },
    {
     "data": {
      "text/plain": [
       "(13307632.5, 0.2862263471406218)"
      ]
     },
     "execution_count": 24,
     "metadata": {},
     "output_type": "execute_result"
    }
   ],
   "source": [
    "b1 = test\n",
    "b2 = control\n",
    "mann_whitney_func (b1,b2)\n"
   ]
  },
  {
   "cell_type": "markdown",
   "id": "c37f2d16",
   "metadata": {},
   "source": [
    "5. Примените к этим рядам также t-test для сравнения средних."
   ]
  },
  {
   "cell_type": "code",
   "execution_count": 25,
   "id": "ac4da7de",
   "metadata": {},
   "outputs": [],
   "source": [
    "from scipy.stats import ttest_ind"
   ]
  },
  {
   "cell_type": "code",
   "execution_count": 26,
   "id": "f6496cc6",
   "metadata": {},
   "outputs": [],
   "source": [
    "def ttest (t1, t2):\n",
    "      \n",
    "    s,p = ttest_ind(t1, t2)\n",
    "    print(\"p-value = \",p)\n",
    "    print(\"t-критерий = \",s)\n",
    "    print('среднее группы test = ', t1.mean())\n",
    "    print('среднее группы control = ', t2.mean())\n",
    "    sns.histplot(t1, color = 'r')\n",
    "    sns.histplot(t2, color = 'b')\n",
    "    plt.show()\n",
    "    \n",
    "    if p < alpha:\n",
    "        print(\"Нулевая гипотеза о равенстве средних не принимается \")\n",
    "    else:\n",
    "        print(\"Нулевая гипотеза о равенстве средних принимается \")\n",
    "    "
   ]
  },
  {
   "cell_type": "code",
   "execution_count": 27,
   "id": "279597b8",
   "metadata": {},
   "outputs": [
    {
     "name": "stdout",
     "output_type": "stream",
     "text": [
      "p-value =  0.0043287276989780535\n",
      "t-критерий =  2.8537908222421335\n",
      "среднее группы test =  3478.955879494655\n",
      "среднее группы control =  3339.535408560311\n"
     ]
    },
    {
     "data": {
      "image/png": "[encoded data removed]",
      "text/plain": [
       "<Figure size 432x288 with 1 Axes>"
      ]
     },
     "metadata": {
      "needs_background": "light"
     },
     "output_type": "display_data"
    },
    {
     "name": "stdout",
     "output_type": "stream",
     "text": [
      "Нулевая гипотеза о равенстве средних не принимается \n"
     ]
    }
   ],
   "source": [
    "alpha = 0.05\n",
    "t1 = test\n",
    "t2 = control\n",
    "\n",
    "ttest (t1,t2)"
   ]
  },
  {
   "cell_type": "markdown",
   "id": "7692a611",
   "metadata": {},
   "source": [
    "Низкий p-value дает нам основания отклонить нулевую гипотезу и считать, что есть разница между тестовой и контрольной группами."
   ]
  },
  {
   "cell_type": "markdown",
   "id": "ff099931",
   "metadata": {},
   "source": [
    "2. Анализ по торговым точкам"
   ]
  },
  {
   "cell_type": "code",
   "execution_count": 28,
   "id": "0d251154",
   "metadata": {},
   "outputs": [],
   "source": [
    "def point (point):\n",
    "    point_T = dfs.loc[(dfs['id_group'] == 'test') & (dfs['id_point'] == point)]\n",
    "    point_C = dfs.loc[(dfs['id_group'] == 'control') & (dfs['id_point'] == point)]\n",
    "    print(f'Результат для торговой точки № {point}')\n",
    "    \n",
    "    ttest(point_T['sum_pay'], point_C['sum_pay'])\n",
    "    mann_whitney_func(point_T['sum_pay'], point_C['sum_pay'])\n",
    "    return"
   ]
  },
  {
   "cell_type": "code",
   "execution_count": 29,
   "id": "639b6c14",
   "metadata": {},
   "outputs": [
    {
     "name": "stdout",
     "output_type": "stream",
     "text": [
      "Результат для торговой точки № 1182.0\n",
      "p-value =  1.0387447468996453e-12\n",
      "t-критерий =  7.172588995409098\n",
      "среднее группы test =  4945.12947368421\n",
      "среднее группы control =  4036.9426877470355\n"
     ]
    },
    {
     "data": {
      "image/png": "[encoded data removed]",
      "text/plain": [
       "<Figure size 432x288 with 1 Axes>"
      ]
     },
     "metadata": {
      "needs_background": "light"
     },
     "output_type": "display_data"
    },
    {
     "name": "stdout",
     "output_type": "stream",
     "text": [
      "Нулевая гипотеза о равенстве средних не принимается \n",
      "По Манну-Уитни распределения не равны\n",
      "None\n",
      "Результат для торговой точки № 1178.0\n",
      "p-value =  0.1251217226713009\n",
      "t-критерий =  -1.5338932633911708\n",
      "среднее группы test =  2936.386949293433\n",
      "среднее группы control =  3036.214731585518\n"
     ]
    },
    {
     "data": {
      "image/png": "[encoded data removed]",
      "text/plain": [
       "<Figure size 432x288 with 1 Axes>"
      ]
     },
     "metadata": {
      "needs_background": "light"
     },
     "output_type": "display_data"
    },
    {
     "name": "stdout",
     "output_type": "stream",
     "text": [
      "Нулевая гипотеза о равенстве средних принимается \n",
      "По Манну-Уитни распределения равны\n",
      "None\n",
      "Результат для торговой точки № 1179.0\n",
      "p-value =  0.2617037465196552\n",
      "t-критерий =  1.1225576641441302\n",
      "среднее группы test =  3421.826934097421\n",
      "среднее группы control =  3331.3105480259283\n"
     ]
    },
    {
     "data": {
      "image/png": "[encoded data removed]",
      "text/plain": [
       "<Figure size 432x288 with 1 Axes>"
      ]
     },
     "metadata": {
      "needs_background": "light"
     },
     "output_type": "display_data"
    },
    {
     "name": "stdout",
     "output_type": "stream",
     "text": [
      "Нулевая гипотеза о равенстве средних принимается \n",
      "По Манну-Уитни распределения равны\n",
      "None\n",
      "Результат для торговой точки № 1186.0\n",
      "p-value =  0.181936501831722\n",
      "t-критерий =  -1.3502123367588006\n",
      "среднее группы test =  3638.4\n",
      "среднее группы control =  4546.0\n"
     ]
    },
    {
     "data": {
      "image/png": "[encoded data removed]",
      "text/plain": [
       "<Figure size 432x288 with 1 Axes>"
      ]
     },
     "metadata": {
      "needs_background": "light"
     },
     "output_type": "display_data"
    },
    {
     "name": "stdout",
     "output_type": "stream",
     "text": [
      "Нулевая гипотеза о равенстве средних принимается \n",
      "По Манну-Уитни распределения равны\n",
      "None\n",
      "Результат для торговой точки № 1188.0\n",
      "p-value =  0.8956790614998074\n",
      "t-критерий =  -0.13596158621984006\n",
      "среднее группы test =  4946.0\n",
      "среднее группы control =  5202.0\n"
     ]
    },
    {
     "data": {
      "image/png": "[encoded data removed]",
      "text/plain": [
       "<Figure size 432x288 with 1 Axes>"
      ]
     },
     "metadata": {
      "needs_background": "light"
     },
     "output_type": "display_data"
    },
    {
     "name": "stdout",
     "output_type": "stream",
     "text": [
      "Нулевая гипотеза о равенстве средних принимается \n",
      "По Манну-Уитни распределения равны\n",
      "None\n"
     ]
    }
   ],
   "source": [
    "id_point_list = dfs['id_point'].unique().tolist()\n",
    "for i in id_point_list:\n",
    "    print(point(i))"
   ]
  },
  {
   "cell_type": "markdown",
   "id": "17ed5fdb",
   "metadata": {},
   "source": [
    "ВЫВОД: Анализ торговых точек выявил разногласия: Опираясь на достаточное количество наблюдений можем принять результаты 3 торговых точек, а именно №№ 1178, 1179, 1182. По торговой точке № 1182 нулевая гипотеза не подтвердилась, p-value очень низкий, распределения по Манну-Уитни не равны. По остальным точкам Нулевая гипотеза принимается. "
   ]
  },
  {
   "cell_type": "code",
   "execution_count": 30,
   "id": "778fa0ba",
   "metadata": {},
   "outputs": [
    {
     "data": {
      "text/plain": [
       "months_reg\n",
       "0      781\n",
       "1      769\n",
       "2     1300\n",
       "3     1607\n",
       "4     1000\n",
       "5     1124\n",
       "6     1182\n",
       "7      606\n",
       "8      634\n",
       "9      294\n",
       "10     305\n",
       "11     321\n",
       "12     210\n",
       "13      71\n",
       "14      81\n",
       "Name: id_client, dtype: int64"
      ]
     },
     "execution_count": 30,
     "metadata": {},
     "output_type": "execute_result"
    }
   ],
   "source": [
    "dfs.groupby('months_reg')['id_client'].count()# количество клиентов по длительности регистрации"
   ]
  },
  {
   "cell_type": "code",
   "execution_count": 31,
   "id": "1cff5029",
   "metadata": {},
   "outputs": [],
   "source": [
    "test_s = dfs[dfs['id_group'] == 'test']['sum_pay']\n",
    "test_m = dfs[dfs['id_group'] == 'test']['months_reg']\n",
    "control_s = dfs[dfs['id_group'] == 'control']['sum_pay']\n",
    "control_m = dfs[dfs['id_group'] == 'control']['months_reg']"
   ]
  },
  {
   "cell_type": "code",
   "execution_count": 32,
   "id": "53b0631e",
   "metadata": {},
   "outputs": [],
   "source": [
    "def proxi_ranges (t1, t2, alpha = 0.05):\n",
    "      \n",
    "    cov_1 = np.cov(t1, t2)\n",
    "    cov_2 = np.cov(t1, t2)[0,1]\n",
    "    \n",
    "    print(\"Дисперсия рядa 1 = \", cov_1[0,0])\n",
    "    print(\"Дисперсия рядa 2 = \", cov_1[1,1])     \n",
    "    print(\"Ковариация = \",cov_2)\n",
    "    \n",
    "    pearson_coef,pearson_p = stats.pearsonr(t1, t2)\n",
    "    spearman_coef,spearman_p = spearmanr(t1, t2)\n",
    "    \n",
    "    if pearson_p < alpha:\n",
    "        print('Корреляция Пирсона равна',pearson_coef )\n",
    "        if abs (pearson_coef) < 0.3:\n",
    "            print('Корреляция Пирсона слабая')\n",
    "        if abs (pearson_coef) < 0.7:\n",
    "            print('Корреляция Пирсона средняя')\n",
    "        else:\n",
    "            print('Корреляция Пирсона сильная')\n",
    "    else:\n",
    "        print (\"Корреляция Пирсона равна 0\")\n",
    "    print()\n",
    "    if spearman_p < alpha:\n",
    "        print('Корреляция Спирмена равна',spearman_coef )\n",
    "        if abs (spearman_coef) < 0.3:\n",
    "            print('Корреляция Спирмена слабая')\n",
    "        if abs (spearman_coef) < 0.7:\n",
    "            print('Корреляция Спирмена средняя')\n",
    "        else:\n",
    "            print('Корреляция Спирмена сильная')\n",
    "    else:\n",
    "        print (\"Корреляция Спирмена равна 0\")\n",
    "    \n",
    "    "
   ]
  },
  {
   "cell_type": "markdown",
   "id": "4dd88a62",
   "metadata": {},
   "source": [
    "Корреляция между выплаченной суммой и длительностью регистрации в тестовой группе"
   ]
  },
  {
   "cell_type": "code",
   "execution_count": 33,
   "id": "89ea998c",
   "metadata": {},
   "outputs": [
    {
     "name": "stdout",
     "output_type": "stream",
     "text": [
      "Дисперсия рядa 1 =  7019364.588449581\n",
      "Дисперсия рядa 2 =  10.608658242234911\n",
      "Ковариация =  5363.91696690229\n",
      "Корреляция Пирсона равна 0.6215884223650022\n",
      "Корреляция Пирсона средняя\n",
      "\n",
      "Корреляция Спирмена равна 0.6694676749072025\n",
      "Корреляция Спирмена средняя\n"
     ]
    },
    {
     "data": {
      "text/plain": [
       "<AxesSubplot:xlabel='sum_pay', ylabel='months_reg'>"
      ]
     },
     "execution_count": 33,
     "metadata": {},
     "output_type": "execute_result"
    },
    {
     "data": {
      "image/png": "[encoded data removed]",
      "text/plain": [
       "<Figure size 432x288 with 1 Axes>"
      ]
     },
     "metadata": {
      "needs_background": "light"
     },
     "output_type": "display_data"
    }
   ],
   "source": [
    "arr_1 = np.array(test_s)\n",
    "arr_2 = np.array(test_m)\n",
    "proxi_ranges (arr_1, arr_2)\n",
    "\n",
    "sns.scatterplot(x = test_s, y = test_m, color = 'r')"
   ]
  },
  {
   "cell_type": "markdown",
   "id": "332aac24",
   "metadata": {},
   "source": [
    "Корреляция между выплаченной суммой и длительностью регистрации в контрольной группе"
   ]
  },
  {
   "cell_type": "code",
   "execution_count": 34,
   "id": "fbf017d4",
   "metadata": {},
   "outputs": [
    {
     "name": "stdout",
     "output_type": "stream",
     "text": [
      "Дисперсия рядa 1 =  5253689.135348442\n",
      "Дисперсия рядa 2 =  9.69985269431971\n",
      "Ковариация =  4161.881881212033\n",
      "Корреляция Пирсона равна 0.5830086454559582\n",
      "Корреляция Пирсона средняя\n",
      "\n",
      "Корреляция Спирмена равна 0.6385804587227423\n",
      "Корреляция Спирмена средняя\n"
     ]
    },
    {
     "data": {
      "text/plain": [
       "<AxesSubplot:xlabel='sum_pay', ylabel='months_reg'>"
      ]
     },
     "execution_count": 34,
     "metadata": {},
     "output_type": "execute_result"
    },
    {
     "data": {
      "image/png": "[encoded data removed]",
      "text/plain": [
       "<Figure size 432x288 with 1 Axes>"
      ]
     },
     "metadata": {
      "needs_background": "light"
     },
     "output_type": "display_data"
    }
   ],
   "source": [
    "arr_1 = np.array(control_s)\n",
    "arr_2 = np.array(control_m)\n",
    "proxi_ranges (arr_1, arr_2)\n",
    "\n",
    "sns.scatterplot(x = control_s, y = control_m, color = 'b')"
   ]
  },
  {
   "cell_type": "markdown",
   "id": "e9c20e8a",
   "metadata": {},
   "source": [
    "ВЫВОД по корреляционному анализу: Между выплаченной суммой и длительностью регистрации в обеих группах существует положительная средняя связь."
   ]
  },
  {
   "cell_type": "markdown",
   "id": "2af5ba94",
   "metadata": {},
   "source": [
    "ОБЩИЙ ВЫВОД: Проверка эффективности рекламной акции показала положительный результат. При малом количестве экспериментов тестирование не выявляет разницы, хотя на самом деле при увеличении выборки по нескольким торговым точкам тестовая рекламная акция показывает хорошие результаты. проверка выявления связи между выплаченными суммами и длительностью регистрации пользователей выявила среднюю положительную степень зависимости."
   ]
  }
 ],
 "metadata": {
  "kernelspec": {
   "display_name": "Python 3 (ipykernel)",
   "language": "python",
   "name": "python3"
  },
  "language_info": {
   "codemirror_mode": {
    "name": "ipython",
    "version": 3
   },
   "file_extension": ".py",
   "mimetype": "text/x-python",
   "name": "python",
   "nbconvert_exporter": "python",
   "pygments_lexer": "ipython3",
   "version": "3.9.7"
  }
 },
 "nbformat": 4,
 "nbformat_minor": 5
}
